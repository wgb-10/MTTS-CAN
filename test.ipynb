{
 "cells": [
  {
   "cell_type": "markdown",
   "metadata": {},
   "source": [
    "This notebook will be used to test helper functions"
   ]
  },
  {
   "cell_type": "code",
   "execution_count": 1,
   "metadata": {},
   "outputs": [],
   "source": [
    "import numpy as np\n",
    "import pandas as pd\n",
    "import cv2\n",
    "import h5py\n",
    "from PIL import Image\n",
    "import csv\n",
    "from glob import iglob\n",
    "import os"
   ]
  },
  {
   "cell_type": "markdown",
   "metadata": {},
   "source": [
    "### Reference: https://realpython.com/storing-images-in-python/#reading-many-images (Accessed 18/03/2022)"
   ]
  },
  {
   "cell_type": "code",
   "execution_count": 63,
   "metadata": {},
   "outputs": [],
   "source": [
    "def read_many_disk(num_images, imagesPath, gtPath):\n",
    "    images, labels = [], []\n",
    "\n",
    "\n",
    "     # For each frame\n",
    "    for imagePath in imagesPath:\n",
    "        \n",
    "        # Store each frame \n",
    "        # print(f'[INFO] Working on Image: {image}')\n",
    "\n",
    "        # Read and resize the image\n",
    "        # Reference: https://pillow.readthedocs.io/en/stable/reference/Image.html (Accessed 21/03/2022)\n",
    "\n",
    "        with Image.open(imagePath) as image:\n",
    "            image_resized = image.resize((36, 36))\n",
    "            images.append(np.array(image_resized))\n",
    "        \n",
    "        # print(f'[INFO] images list contains: {len(images)} elements  of type {type(images[0])}')\n",
    "\n",
    "    with open(gtPath, \"r\") as csvfile:\n",
    "        reader = csv.reader(\n",
    "            csvfile, delimiter=\",\"\n",
    "        )\n",
    "\n",
    "        for idx, row in enumerate(reader):\n",
    "            \n",
    "            # Skip the title row\n",
    "            if idx > 0:\n",
    "                \n",
    "                # Skip the ppg recording for the last frame as it doesn't have a successor for normalization. \n",
    "                # This frame will only be used to normalize the 2nd last frame.\n",
    "                if len(labels) < num_images - 1:        \n",
    "                    ppg = float(row[2])                 # row[2] is the column containing ppg signal (label)\n",
    "                    # print(f'[INFO] ppg: {ppg}')\n",
    "                    labels.append(ppg)  \n",
    "\n",
    "    # print(f'[INFO] labels list contains: {len(labels)} elements  of type {type(labels[0])}')\n",
    "\n",
    "    # List containing the images with normailzed frames added in the 3rd dimension\n",
    "    expanded_images = []\n",
    "\n",
    "    # Perform frame normalization using every two adjacent frames as (c(t + 1) - c(t))/(c(t) + c(t + 1))\n",
    "    # where c is the channel of the frame.\n",
    "    for idx, image in enumerate(images):\n",
    "        if idx < len(images) - 1:\n",
    "            for i in range(3):\n",
    "\n",
    "                # Normalized frame calculated by the formula above\n",
    "                normalizedFrame = (images[idx + 1][:, :, i] - images[idx][:, :, i]\n",
    "                ) / (images[idx][:, :, i] + images[idx + 1][:, :, i])\n",
    "\n",
    "                # Adding an extra dimension to the normalized frame to make it possible to append to original image\n",
    "                normalizedFrame = np.expand_dims(normalizedFrame, axis=2)\n",
    "\n",
    "                image = np.append(image, normalizedFrame, axis=2)\n",
    "                \n",
    "            #     print(f'shape of normalizedFrame: {normalizedFrame.shape}')\n",
    "            #     print(f'shape of image: {image.shape}')\n",
    "\n",
    "            # print(f'shape of image after going through each channel: {image.shape}')\n",
    "            \n",
    "            # Storing the expanded images \n",
    "            expanded_images.append(image)\n",
    "            \n",
    "\n",
    "\n",
    "    return np.array(expanded_images), np.array(labels)\n",
    "\n",
    "    # # Loop over all IDs and read each image in one by one\n",
    "    # for image_id in range(num_images):\n",
    "    #     images.append(np.array(Image.open(disk_dir / f\"{image_id}.png\")))\n"
   ]
  },
  {
   "cell_type": "code",
   "execution_count": 64,
   "metadata": {},
   "outputs": [
    {
     "name": "stdout",
     "output_type": "stream",
     "text": [
      "[INFO] Working in D:\\OneDrive\\Documents\\rPPG-Projects\\Datasets-Preprocessed\\UBFC2\\DATASET_2\\1\\subject1\n",
      "[INFO] Number of images: 1547\n",
      "shape of images: (1546, 36, 36, 6), type: <class 'numpy.ndarray'>\n",
      "shape of labels: (1546,), type: <class 'numpy.ndarray'>\n"
     ]
    },
    {
     "name": "stderr",
     "output_type": "stream",
     "text": [
      "C:\\Users\\wesle\\AppData\\Local\\Temp\\ipykernel_8736\\4262945526.py:49: RuntimeWarning: invalid value encountered in true_divide\n",
      "  normalizedFrame = (images[idx + 1][:, :, i] - images[idx][:, :, i]\n",
      "C:\\Users\\wesle\\AppData\\Local\\Temp\\ipykernel_8736\\4262945526.py:49: RuntimeWarning: divide by zero encountered in true_divide\n",
      "  normalizedFrame = (images[idx + 1][:, :, i] - images[idx][:, :, i]\n"
     ]
    }
   ],
   "source": [
    "# Get iterate over different subjects\n",
    "imageDirs = iglob(\"D:\\\\OneDrive\\\\Documents\\\\rPPG-Projects\\\\Datasets-Preprocessed\\\\UBFC2\\\\DATASET_2\\\\[0-9]*\\\\subject[0-9]*\")\n",
    "# imagePaths = iglob(\"D:\\\\OneDrive\\\\Documents\\\\rPPG-Projects\\\\Datasets-Preprocessed\\\\UBFC2\\\\DATASET_2\\\\[0-9]*\\\\subject[0-9]*\\\\[0-9]*.png\")\n",
    "\n",
    "images, labels = [], []\n",
    "\n",
    "# For each subject\n",
    "for path_ in imageDirs:\n",
    "    print(f\"[INFO] Working in {path_}\")\n",
    "\n",
    "    # Get the number of frames\n",
    "    num_images = len(os.listdir(path_))\n",
    "\n",
    "    print(f'[INFO] Number of images: {num_images}')\n",
    "    \n",
    "    # Get the path to the frames\n",
    "    imagesPath = iglob(os.path.join(path_, \"*.png\"))\n",
    "\n",
    "    # Get subject number from path\n",
    "    subID = path_.split(\"\\\\\")[-1]\n",
    "\n",
    "    # Get the path to the csv file\n",
    "    gtPath = path_.replace(subID, r\"0\\phys.csv\")    \n",
    "\n",
    "    images, labels = read_many_disk(num_images, imagesPath, gtPath)    \n",
    "\n",
    "    break   # Testing only for first subject (for now)\n",
    "\n",
    "\n",
    "print(f'shape of images: {np.shape(images)}, type: {type(images)}')\n",
    "print(f'shape of labels: {np.shape(labels)}, type: {type(labels)}')\n"
   ]
  },
  {
   "cell_type": "markdown",
   "metadata": {},
   "source": [
    "TODO: Store the images and labels in a hdf5 file (one file for each subject)"
   ]
  },
  {
   "cell_type": "code",
   "execution_count": null,
   "metadata": {},
   "outputs": [],
   "source": []
  },
  {
   "cell_type": "code",
   "execution_count": null,
   "metadata": {},
   "outputs": [],
   "source": []
  },
  {
   "cell_type": "code",
   "execution_count": 21,
   "metadata": {},
   "outputs": [
    {
     "name": "stdout",
     "output_type": "stream",
     "text": [
      "[INFO] Working in D:\\OneDrive\\Documents\\rPPG-Projects\\Datasets-Preprocessed\\UBFC2\\DATASET_2\\10\\subject10\n",
      "[INFO] Number of images: 2024\n"
     ]
    }
   ],
   "source": [
    "# Get iterate over different subjects\n",
    "datasetPath = r\"D:\\OneDrive\\Documents\\rPPG-Projects\\Datasets-Preprocessed\\UBFC2\\DATASET_2\"\n",
    "\n",
    "# For each subject\n",
    "for path_ in imageDirs:\n",
    "    print(f\"[INFO] Working in {path_}\")\n",
    "\n",
    "    # Get the number of frames\n",
    "    num_images = len(os.listdir(path_))\n",
    "\n",
    "    print(f'[INFO] Number of images: {num_images}')\n",
    "    \n",
    "    # Get the path to the frames\n",
    "    imagesPath = iglob(os.path.join(path_, \"*.png\"))\n",
    "\n",
    "    # For each frame\n",
    "    \n",
    "    # print(f'[INFO] Image paths: {imagePaths.__next__()}')\n",
    "    \n",
    "    break"
   ]
  },
  {
   "cell_type": "code",
   "execution_count": null,
   "metadata": {},
   "outputs": [],
   "source": []
  }
 ],
 "metadata": {
  "interpreter": {
   "hash": "721881c4ebbfc4a48f73e756600484e3f3653201792f48d5e9f9bb135cb791ab"
  },
  "kernelspec": {
   "display_name": "Python 3.8.12 ('tf-gpu')",
   "language": "python",
   "name": "python3"
  },
  "language_info": {
   "codemirror_mode": {
    "name": "ipython",
    "version": 3
   },
   "file_extension": ".py",
   "mimetype": "text/x-python",
   "name": "python",
   "nbconvert_exporter": "python",
   "pygments_lexer": "ipython3",
   "version": "3.8.12"
  },
  "orig_nbformat": 4
 },
 "nbformat": 4,
 "nbformat_minor": 2
}
