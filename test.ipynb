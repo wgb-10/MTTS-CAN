{
 "cells": [
  {
   "cell_type": "markdown",
   "metadata": {},
   "source": [
    "This notebook will be used to test helper functions"
   ]
  },
  {
   "cell_type": "code",
   "execution_count": 1,
   "metadata": {},
   "outputs": [],
   "source": [
    "import numpy as np\n",
    "import pandas as pd\n",
    "import cv2"
   ]
  },
  {
   "cell_type": "code",
   "execution_count": 6,
   "metadata": {},
   "outputs": [],
   "source": [
    "# References: \n",
    "# https://stackoverflow.com/questions/67644826/how-to-convert-a-video-to-a-numpy-array \n",
    "# https://docs.opencv.org/4.x/d1/dc5/tutorial_background_subtraction.html \n",
    "# https://www.geeksforgeeks.org/convert-bgr-and-rgb-with-python-opencv/ (Accessed: 11/04/2020)\n",
    "\n",
    "def video_to_frames(video_path):\n",
    "\n",
    "    frames = []\n",
    "\n",
    "    capture = cv2.VideoCapture(video_path)\n",
    "\n",
    "    if not capture.isOpened():\n",
    "        print('Unable to open: ' + videoPath)\n",
    "        exit(0)\n",
    "        \n",
    "    while True:\n",
    "        _, frame = capture.read()\n",
    "        \n",
    "        if frame is None:\n",
    "            break\n",
    "        \n",
    "\n",
    "        frames.append(cv2.cvtColor(frame, cv2.COLOR_BGR2RGB))\n",
    "\n",
    "    \n",
    "    frames = np.array(frames)  # convert list of frames to numpy array\n",
    "\n",
    "    return frames\n",
    "\n",
    "\n"
   ]
  },
  {
   "cell_type": "code",
   "execution_count": 7,
   "metadata": {},
   "outputs": [
    {
     "data": {
      "text/plain": [
       "(1547, 480, 640, 3)"
      ]
     },
     "execution_count": 7,
     "metadata": {},
     "output_type": "execute_result"
    }
   ],
   "source": [
    "videoPath = r'D:\\OneDrive - Heriot-Watt University\\Computer Science Uni\\Year 4\\Datasets\\UBFC_DATASET\\DATASET_2\\subject1\\vid.avi'\n",
    "\n",
    "vidFrames = video_to_frames(videoPath)\n",
    "vidFrames.shape"
   ]
  }
 ],
 "metadata": {
  "interpreter": {
   "hash": "721881c4ebbfc4a48f73e756600484e3f3653201792f48d5e9f9bb135cb791ab"
  },
  "kernelspec": {
   "display_name": "Python 3.8.12 ('tf-gpu')",
   "language": "python",
   "name": "python3"
  },
  "language_info": {
   "codemirror_mode": {
    "name": "ipython",
    "version": 3
   },
   "file_extension": ".py",
   "mimetype": "text/x-python",
   "name": "python",
   "nbconvert_exporter": "python",
   "pygments_lexer": "ipython3",
   "version": "3.8.12"
  },
  "orig_nbformat": 4
 },
 "nbformat": 4,
 "nbformat_minor": 2
}
